{
 "cells": [
  {
   "cell_type": "code",
   "execution_count": 2,
   "metadata": {},
   "outputs": [],
   "source": [
    "from azureml.core import (\n",
    "    Dataset\n",
    "    , Workspace\n",
    "    , Model\n",
    "    )\n",
    "from sklearn.model_selection import train_test_split\n",
    "\n",
    "import pandas as pd\n",
    "import numpy as np\n",
    "import joblib\n",
    "\n",
    "import os\n",
    "import sys"
   ]
  },
  {
   "cell_type": "code",
   "execution_count": 3,
   "metadata": {},
   "outputs": [],
   "source": [
    "ws = Workspace.from_config()\n",
    "\n",
    "# Get the input dataset by ID\n",
    "dataset = Dataset.get_by_name(\n",
    "    workspace=ws\n",
    "    , name=\"1987_NICP_Survey\"\n",
    ")\n",
    "\n",
    "# load the TabularDataset to pandas DataFrame\n",
    "raw_df = dataset.to_pandas_dataframe()\n",
    "\n",
    "# Split Train_Data into Train/Valid\n",
    "X_Train, X_Test, Y_Train, Y_Test = train_test_split(\n",
    "    raw_df.loc[:, ~raw_df.columns.isin(['ContraceptiveMethod'])]\n",
    "    , raw_df.loc[: , raw_df.columns.isin(['ContraceptiveMethod'])]\n",
    "    , random_state=123\n",
    "    , test_size=0.2\n",
    ")"
   ]
  },
  {
   "cell_type": "code",
   "execution_count": null,
   "metadata": {},
   "outputs": [],
   "source": [
    "# preprocess_path = Model.get_model_path(model_name='sklearn_preprocessing')\n",
    "\n",
    "# Process = joblib.load(preprocess_path)"
   ]
  },
  {
   "cell_type": "code",
   "execution_count": 4,
   "metadata": {},
   "outputs": [
    {
     "ename": "AttributeError",
     "evalue": "Can't get attribute '_unpickle_block' on <module 'pandas._libs.internals' from '/anaconda/envs/azureml_py38/lib/python3.8/site-packages/pandas/_libs/internals.cpython-38-x86_64-linux-gnu.so'>",
     "output_type": "error",
     "traceback": [
      "\u001b[0;31m---------------------------------------------------------------------------\u001b[0m",
      "\u001b[0;31mAttributeError\u001b[0m                            Traceback (most recent call last)",
      "\u001b[1;32m/home/azureuser/cloudfiles/code/Users/crcastillo84/Azure_ML_SDK1/sklearn_poc/scratch_testing.ipynb Cell 4\u001b[0m in \u001b[0;36m<cell line: 5>\u001b[0;34m()\u001b[0m\n\u001b[1;32m      <a href='vscode-notebook-cell://amlext%2B2f737562736372697074696f6e732f38383431313538632d373732392d343865312d613465332d6238313235343537653239382f7265736f7572636547726f7570732f617a7572655f6d6c2f70726f7669646572732f4d6963726f736f66742e4d616368696e654c6561726e696e6753657276696365732f776f726b7370616365732f617a7572655f6d6c5f706f632f636f6d70757465732f637263617374696c6c6f383431/home/azureuser/cloudfiles/code/Users/crcastillo84/Azure_ML_SDK1/sklearn_poc/scratch_testing.ipynb#X13sdnNjb2RlLXJlbW90ZQ%3D%3D?line=2'>3</a>\u001b[0m \u001b[39m# sys.path.append(os.path.join(os.getcwd(), 'prep/outputs'))\u001b[39;00m\n\u001b[1;32m      <a href='vscode-notebook-cell://amlext%2B2f737562736372697074696f6e732f38383431313538632d373732392d343865312d613465332d6238313235343537653239382f7265736f7572636547726f7570732f617a7572655f6d6c2f70726f7669646572732f4d6963726f736f66742e4d616368696e654c6561726e696e6753657276696365732f776f726b7370616365732f617a7572655f6d6c5f706f632f636f6d70757465732f637263617374696c6c6f383431/home/azureuser/cloudfiles/code/Users/crcastillo84/Azure_ML_SDK1/sklearn_poc/scratch_testing.ipynb#X13sdnNjb2RlLXJlbW90ZQ%3D%3D?line=4'>5</a>\u001b[0m \u001b[39mwith\u001b[39;00m \u001b[39mopen\u001b[39m(\u001b[39m'\u001b[39m\u001b[39m./prep/outputs/PreProcessing_Pipeline.cloudpkl\u001b[39m\u001b[39m'\u001b[39m, mode\u001b[39m=\u001b[39m\u001b[39m'\u001b[39m\u001b[39mrb\u001b[39m\u001b[39m'\u001b[39m) \u001b[39mas\u001b[39;00m file:\n\u001b[0;32m----> <a href='vscode-notebook-cell://amlext%2B2f737562736372697074696f6e732f38383431313538632d373732392d343865312d613465332d6238313235343537653239382f7265736f7572636547726f7570732f617a7572655f6d6c2f70726f7669646572732f4d6963726f736f66742e4d616368696e654c6561726e696e6753657276696365732f776f726b7370616365732f617a7572655f6d6c5f706f632f636f6d70757465732f637263617374696c6c6f383431/home/azureuser/cloudfiles/code/Users/crcastillo84/Azure_ML_SDK1/sklearn_poc/scratch_testing.ipynb#X13sdnNjb2RlLXJlbW90ZQ%3D%3D?line=5'>6</a>\u001b[0m    pipeline_unpkl \u001b[39m=\u001b[39m cloudpickle\u001b[39m.\u001b[39;49mload(file)\n",
      "\u001b[0;31mAttributeError\u001b[0m: Can't get attribute '_unpickle_block' on <module 'pandas._libs.internals' from '/anaconda/envs/azureml_py38/lib/python3.8/site-packages/pandas/_libs/internals.cpython-38-x86_64-linux-gnu.so'>"
     ]
    }
   ],
   "source": [
    "import cloudpickle\n",
    "\n",
    "with open('./prep/outputs/PreProcessing_Pipeline.cloudpkl', mode='rb') as file:\n",
    "   pipeline_unpkl = cloudpickle.load(file)"
   ]
  },
  {
   "cell_type": "code",
   "execution_count": 5,
   "metadata": {},
   "outputs": [
    {
     "ename": "AttributeError",
     "evalue": "Can't get attribute '_unpickle_block' on <module 'pandas._libs.internals' from '/anaconda/envs/azureml_py38/lib/python3.8/site-packages/pandas/_libs/internals.cpython-38-x86_64-linux-gnu.so'>",
     "output_type": "error",
     "traceback": [
      "\u001b[0;31m---------------------------------------------------------------------------\u001b[0m",
      "\u001b[0;31mAttributeError\u001b[0m                            Traceback (most recent call last)",
      "\u001b[1;32m/home/azureuser/cloudfiles/code/Users/crcastillo84/Azure_ML_SDK1/sklearn_poc/scratch_testing.ipynb Cell 5\u001b[0m in \u001b[0;36m<cell line: 3>\u001b[0;34m()\u001b[0m\n\u001b[1;32m      <a href='vscode-notebook-cell://amlext%2B2f737562736372697074696f6e732f38383431313538632d373732392d343865312d613465332d6238313235343537653239382f7265736f7572636547726f7570732f617a7572655f6d6c2f70726f7669646572732f4d6963726f736f66742e4d616368696e654c6561726e696e6753657276696365732f776f726b7370616365732f617a7572655f6d6c5f706f632f636f6d70757465732f637263617374696c6c6f383431/home/azureuser/cloudfiles/code/Users/crcastillo84/Azure_ML_SDK1/sklearn_poc/scratch_testing.ipynb#X14sdnNjb2RlLXJlbW90ZQ%3D%3D?line=0'>1</a>\u001b[0m \u001b[39mimport\u001b[39;00m \u001b[39mpickle\u001b[39;00m\n\u001b[1;32m      <a href='vscode-notebook-cell://amlext%2B2f737562736372697074696f6e732f38383431313538632d373732392d343865312d613465332d6238313235343537653239382f7265736f7572636547726f7570732f617a7572655f6d6c2f70726f7669646572732f4d6963726f736f66742e4d616368696e654c6561726e696e6753657276696365732f776f726b7370616365732f617a7572655f6d6c5f706f632f636f6d70757465732f637263617374696c6c6f383431/home/azureuser/cloudfiles/code/Users/crcastillo84/Azure_ML_SDK1/sklearn_poc/scratch_testing.ipynb#X14sdnNjb2RlLXJlbW90ZQ%3D%3D?line=2'>3</a>\u001b[0m \u001b[39mwith\u001b[39;00m \u001b[39mopen\u001b[39m(\u001b[39m'\u001b[39m\u001b[39m./prep/outputs/PreProcessing_Pipeline.cloudpkl\u001b[39m\u001b[39m'\u001b[39m, mode\u001b[39m=\u001b[39m\u001b[39m'\u001b[39m\u001b[39mrb\u001b[39m\u001b[39m'\u001b[39m) \u001b[39mas\u001b[39;00m file:\n\u001b[0;32m----> <a href='vscode-notebook-cell://amlext%2B2f737562736372697074696f6e732f38383431313538632d373732392d343865312d613465332d6238313235343537653239382f7265736f7572636547726f7570732f617a7572655f6d6c2f70726f7669646572732f4d6963726f736f66742e4d616368696e654c6561726e696e6753657276696365732f776f726b7370616365732f617a7572655f6d6c5f706f632f636f6d70757465732f637263617374696c6c6f383431/home/azureuser/cloudfiles/code/Users/crcastillo84/Azure_ML_SDK1/sklearn_poc/scratch_testing.ipynb#X14sdnNjb2RlLXJlbW90ZQ%3D%3D?line=3'>4</a>\u001b[0m     pipeline_unpkl \u001b[39m=\u001b[39m pickle\u001b[39m.\u001b[39;49mload(file)\n",
      "\u001b[0;31mAttributeError\u001b[0m: Can't get attribute '_unpickle_block' on <module 'pandas._libs.internals' from '/anaconda/envs/azureml_py38/lib/python3.8/site-packages/pandas/_libs/internals.cpython-38-x86_64-linux-gnu.so'>"
     ]
    }
   ],
   "source": [
    "# import pickle\n",
    "\n",
    "# with open('./prep/outputs/PreProcessing_Pipeline.cloudpkl', mode='rb') as file:\n",
    "#     pipeline_unpkl = pickle.load(file)"
   ]
  }
 ],
 "metadata": {
  "kernelspec": {
   "display_name": "Python 3.8.5 ('azureml_py38')",
   "language": "python",
   "name": "python3"
  },
  "language_info": {
   "codemirror_mode": {
    "name": "ipython",
    "version": 3
   },
   "file_extension": ".py",
   "mimetype": "text/x-python",
   "name": "python",
   "nbconvert_exporter": "python",
   "pygments_lexer": "ipython3",
   "version": "3.8.5"
  },
  "orig_nbformat": 4,
  "vscode": {
   "interpreter": {
    "hash": "6d65a8c07f5b6469e0fc613f182488c0dccce05038bbda39e5ac9075c0454d11"
   }
  }
 },
 "nbformat": 4,
 "nbformat_minor": 2
}
