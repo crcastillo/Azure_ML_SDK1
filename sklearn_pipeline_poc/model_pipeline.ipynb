{
  "cells": [
    {
      "cell_type": "code",
      "execution_count": 31,
      "metadata": {
        "gather": {
          "logged": 1660839641547
        }
      },
      "outputs": [
        {
          "name": "stdout",
          "output_type": "stream",
          "text": [
            "AML SDK version: 1.42.0\n"
          ]
        },
        {
          "ename": "KeyboardInterrupt",
          "evalue": "",
          "output_type": "error",
          "traceback": [
            "\u001b[0;31m---------------------------------------------------------------------------\u001b[0m",
            "\u001b[0;31mKeyboardInterrupt\u001b[0m                         Traceback (most recent call last)",
            "\u001b[1;32m/home/azureuser/cloudfiles/code/Users/crcastillo84/Azure_ML_SDK1/sklearn_pipeline_poc/model_pipeline.ipynb Cell 1\u001b[0m in \u001b[0;36m<cell line: 57>\u001b[0;34m()\u001b[0m\n\u001b[1;32m     <a href='vscode-notebook-cell://amlext%2B2f737562736372697074696f6e732f38383431313538632d373732392d343865312d613465332d6238313235343537653239382f7265736f7572636547726f7570732f617a7572655f6d6c2f70726f7669646572732f4d6963726f736f66742e4d616368696e654c6561726e696e6753657276696365732f776f726b7370616365732f617a7572655f6d6c5f706f632f636f6d70757465732f637263617374696c6c6f383431/home/azureuser/cloudfiles/code/Users/crcastillo84/Azure_ML_SDK1/sklearn_pipeline_poc/model_pipeline.ipynb#W0sdnNjb2RlLXJlbW90ZQ%3D%3D?line=54'>55</a>\u001b[0m \u001b[39m# Set the compute target  and compute cluster\u001b[39;00m\n\u001b[1;32m     <a href='vscode-notebook-cell://amlext%2B2f737562736372697074696f6e732f38383431313538632d373732392d343865312d613465332d6238313235343537653239382f7265736f7572636547726f7570732f617a7572655f6d6c2f70726f7669646572732f4d6963726f736f66742e4d616368696e654c6561726e696e6753657276696365732f776f726b7370616365732f617a7572655f6d6c5f706f632f636f6d70757465732f637263617374696c6c6f383431/home/azureuser/cloudfiles/code/Users/crcastillo84/Azure_ML_SDK1/sklearn_pipeline_poc/model_pipeline.ipynb#W0sdnNjb2RlLXJlbW90ZQ%3D%3D?line=55'>56</a>\u001b[0m cluster \u001b[39m=\u001b[39m ComputeTarget(workspace\u001b[39m=\u001b[39mws, name\u001b[39m=\u001b[39m\u001b[39m'\u001b[39m\u001b[39mcpu-cluster\u001b[39m\u001b[39m'\u001b[39m)\n\u001b[0;32m---> <a href='vscode-notebook-cell://amlext%2B2f737562736372697074696f6e732f38383431313538632d373732392d343865312d613465332d6238313235343537653239382f7265736f7572636547726f7570732f617a7572655f6d6c2f70726f7669646572732f4d6963726f736f66742e4d616368696e654c6561726e696e6753657276696365732f776f726b7370616365732f617a7572655f6d6c5f706f632f636f6d70757465732f637263617374696c6c6f383431/home/azureuser/cloudfiles/code/Users/crcastillo84/Azure_ML_SDK1/sklearn_pipeline_poc/model_pipeline.ipynb#W0sdnNjb2RlLXJlbW90ZQ%3D%3D?line=56'>57</a>\u001b[0m cluster\u001b[39m.\u001b[39;49mwait_for_completion(show_output\u001b[39m=\u001b[39;49m\u001b[39mTrue\u001b[39;49;00m)\n\u001b[1;32m     <a href='vscode-notebook-cell://amlext%2B2f737562736372697074696f6e732f38383431313538632d373732392d343865312d613465332d6238313235343537653239382f7265736f7572636547726f7570732f617a7572655f6d6c2f70726f7669646572732f4d6963726f736f66742e4d616368696e654c6561726e696e6753657276696365732f776f726b7370616365732f617a7572655f6d6c5f706f632f636f6d70757465732f637263617374696c6c6f383431/home/azureuser/cloudfiles/code/Users/crcastillo84/Azure_ML_SDK1/sklearn_pipeline_poc/model_pipeline.ipynb#W0sdnNjb2RlLXJlbW90ZQ%3D%3D?line=57'>58</a>\u001b[0m compute \u001b[39m=\u001b[39m ComputeTarget(workspace\u001b[39m=\u001b[39mws, name\u001b[39m=\u001b[39m\u001b[39m'\u001b[39m\u001b[39mcrcastillo841\u001b[39m\u001b[39m'\u001b[39m)\n\u001b[1;32m     <a href='vscode-notebook-cell://amlext%2B2f737562736372697074696f6e732f38383431313538632d373732392d343865312d613465332d6238313235343537653239382f7265736f7572636547726f7570732f617a7572655f6d6c2f70726f7669646572732f4d6963726f736f66742e4d616368696e654c6561726e696e6753657276696365732f776f726b7370616365732f617a7572655f6d6c5f706f632f636f6d70757465732f637263617374696c6c6f383431/home/azureuser/cloudfiles/code/Users/crcastillo84/Azure_ML_SDK1/sklearn_pipeline_poc/model_pipeline.ipynb#W0sdnNjb2RlLXJlbW90ZQ%3D%3D?line=58'>59</a>\u001b[0m compute\u001b[39m.\u001b[39mwait_for_completion(show_output\u001b[39m=\u001b[39m\u001b[39mTrue\u001b[39;00m)\n",
            "File \u001b[0;32m/anaconda/envs/azureml_py38/lib/python3.8/site-packages/azureml/core/compute/amlcompute.py:387\u001b[0m, in \u001b[0;36mAmlCompute.wait_for_completion\u001b[0;34m(self, show_output, min_node_count, timeout_in_minutes, is_delete_operation)\u001b[0m\n\u001b[1;32m    383\u001b[0m     \u001b[39msuper\u001b[39m(AmlCompute, \u001b[39mself\u001b[39m)\u001b[39m.\u001b[39mwait_for_completion(show_output\u001b[39m=\u001b[39mshow_output,\n\u001b[1;32m    384\u001b[0m                                                 is_delete_operation\u001b[39m=\u001b[39mis_delete_operation)\n\u001b[1;32m    385\u001b[0m \u001b[39mif\u001b[39;00m \u001b[39mnot\u001b[39;00m is_delete_operation:\n\u001b[1;32m    386\u001b[0m     min_nodes_reached, timeout_reached, terminal_state_reached, status_errors_present \u001b[39m=\u001b[39m \\\n\u001b[0;32m--> 387\u001b[0m         \u001b[39mself\u001b[39;49m\u001b[39m.\u001b[39;49m_wait_for_nodes(min_node_count, timeout_in_minutes, show_output)\n\u001b[1;32m    388\u001b[0m     \u001b[39mif\u001b[39;00m show_output:\n\u001b[1;32m    389\u001b[0m         \u001b[39mprint\u001b[39m(\u001b[39m'\u001b[39m\u001b[39mAmlCompute wait for completion finished\u001b[39m\u001b[39m\\n\u001b[39;00m\u001b[39m'\u001b[39m)\n",
            "File \u001b[0;32m/anaconda/envs/azureml_py38/lib/python3.8/site-packages/azureml/core/compute/amlcompute.py:431\u001b[0m, in \u001b[0;36mAmlCompute._wait_for_nodes\u001b[0;34m(self, min_node_count, timeout_in_minutes, show_output)\u001b[0m\n\u001b[1;32m    419\u001b[0m \u001b[39mdef\u001b[39;00m \u001b[39m_wait_for_nodes\u001b[39m(\u001b[39mself\u001b[39m, min_node_count, timeout_in_minutes, show_output):\n\u001b[1;32m    420\u001b[0m     \u001b[39m\"\"\"Wait for nodes.\u001b[39;00m\n\u001b[1;32m    421\u001b[0m \n\u001b[1;32m    422\u001b[0m \u001b[39m    :param min_node_count:\u001b[39;00m\n\u001b[0;32m   (...)\u001b[0m\n\u001b[1;32m    429\u001b[0m \u001b[39m    :rtype:\u001b[39;00m\n\u001b[1;32m    430\u001b[0m \u001b[39m    \"\"\"\u001b[39;00m\n\u001b[0;32m--> 431\u001b[0m     \u001b[39mself\u001b[39;49m\u001b[39m.\u001b[39;49mrefresh_state()\n\u001b[1;32m    432\u001b[0m     start_time \u001b[39m=\u001b[39m time\u001b[39m.\u001b[39mtime()\n\u001b[1;32m    434\u001b[0m     \u001b[39mif\u001b[39;00m \u001b[39mself\u001b[39m\u001b[39m.\u001b[39mstatus:\n",
            "File \u001b[0;32m/anaconda/envs/azureml_py38/lib/python3.8/site-packages/azureml/core/compute/amlcompute.py:559\u001b[0m, in \u001b[0;36mAmlCompute.refresh_state\u001b[0;34m(self)\u001b[0m\n\u001b[1;32m    553\u001b[0m \u001b[39mdef\u001b[39;00m \u001b[39mrefresh_state\u001b[39m(\u001b[39mself\u001b[39m):\n\u001b[1;32m    554\u001b[0m     \u001b[39m\"\"\"Perform an in-place update of the properties of the object.\u001b[39;00m\n\u001b[1;32m    555\u001b[0m \n\u001b[1;32m    556\u001b[0m \u001b[39m    This method updates the properties based on the current state of the corresponding cloud object.\u001b[39;00m\n\u001b[1;32m    557\u001b[0m \u001b[39m    This is primarily used for manual polling of compute state.\u001b[39;00m\n\u001b[1;32m    558\u001b[0m \u001b[39m    \"\"\"\u001b[39;00m\n\u001b[0;32m--> 559\u001b[0m     cluster \u001b[39m=\u001b[39m AmlCompute(\u001b[39mself\u001b[39;49m\u001b[39m.\u001b[39;49mworkspace, \u001b[39mself\u001b[39;49m\u001b[39m.\u001b[39;49mname)\n\u001b[1;32m    560\u001b[0m     \u001b[39mself\u001b[39m\u001b[39m.\u001b[39mmodified_on \u001b[39m=\u001b[39m cluster\u001b[39m.\u001b[39mmodified_on\n\u001b[1;32m    561\u001b[0m     \u001b[39mself\u001b[39m\u001b[39m.\u001b[39mprovisioning_state \u001b[39m=\u001b[39m cluster\u001b[39m.\u001b[39mprovisioning_state\n",
            "File \u001b[0;32m/anaconda/envs/azureml_py38/lib/python3.8/site-packages/azureml/core/compute/compute.py:71\u001b[0m, in \u001b[0;36mComputeTarget.__new__\u001b[0;34m(cls, workspace, name)\u001b[0m\n\u001b[1;32m     55\u001b[0m \u001b[39m\"\"\"Return an instance of a compute target.\u001b[39;00m\n\u001b[1;32m     56\u001b[0m \n\u001b[1;32m     57\u001b[0m \u001b[39mComputeTarget constructor is used to retrieve a cloud representation of a Compute object associated with the\u001b[39;00m\n\u001b[0;32m   (...)\u001b[0m\n\u001b[1;32m     68\u001b[0m \u001b[39m:raises azureml.exceptions.ComputeTargetException:\u001b[39;00m\n\u001b[1;32m     69\u001b[0m \u001b[39m\"\"\"\u001b[39;00m\n\u001b[1;32m     70\u001b[0m \u001b[39mif\u001b[39;00m workspace \u001b[39mand\u001b[39;00m name:\n\u001b[0;32m---> 71\u001b[0m     compute_payload \u001b[39m=\u001b[39m \u001b[39mcls\u001b[39;49m\u001b[39m.\u001b[39;49m_get(workspace, name)\n\u001b[1;32m     72\u001b[0m     \u001b[39mif\u001b[39;00m compute_payload:\n\u001b[1;32m     73\u001b[0m         compute_type \u001b[39m=\u001b[39m compute_payload[\u001b[39m'\u001b[39m\u001b[39mproperties\u001b[39m\u001b[39m'\u001b[39m][\u001b[39m'\u001b[39m\u001b[39mcomputeType\u001b[39m\u001b[39m'\u001b[39m]\n",
            "File \u001b[0;32m/anaconda/envs/azureml_py38/lib/python3.8/site-packages/azureml/core/compute/compute.py:277\u001b[0m, in \u001b[0;36mComputeTarget._get\u001b[0;34m(workspace, name)\u001b[0m\n\u001b[1;32m    275\u001b[0m ComputeTarget\u001b[39m.\u001b[39m_add_request_tracking_headers(headers)\n\u001b[1;32m    276\u001b[0m params \u001b[39m=\u001b[39m {\u001b[39m'\u001b[39m\u001b[39mapi-version\u001b[39m\u001b[39m'\u001b[39m: MLC_WORKSPACE_API_VERSION}\n\u001b[0;32m--> 277\u001b[0m resp \u001b[39m=\u001b[39m ClientBase\u001b[39m.\u001b[39;49m_execute_func(get_requests_session()\u001b[39m.\u001b[39;49mget, endpoint, params\u001b[39m=\u001b[39;49mparams, headers\u001b[39m=\u001b[39;49mheaders)\n\u001b[1;32m    278\u001b[0m \u001b[39mif\u001b[39;00m resp\u001b[39m.\u001b[39mstatus_code \u001b[39m==\u001b[39m \u001b[39m200\u001b[39m:\n\u001b[1;32m    279\u001b[0m     content \u001b[39m=\u001b[39m resp\u001b[39m.\u001b[39mcontent\n",
            "File \u001b[0;32m/anaconda/envs/azureml_py38/lib/python3.8/site-packages/azureml/_restclient/clientbase.py:374\u001b[0m, in \u001b[0;36mClientBase._execute_func\u001b[0;34m(cls, func, *args, **kwargs)\u001b[0m\n\u001b[1;32m    371\u001b[0m \u001b[39m@classmethod\u001b[39m\n\u001b[1;32m    372\u001b[0m \u001b[39mdef\u001b[39;00m \u001b[39m_execute_func\u001b[39m(\u001b[39mcls\u001b[39m, func, \u001b[39m*\u001b[39margs, \u001b[39m*\u001b[39m\u001b[39m*\u001b[39mkwargs):\n\u001b[1;32m    373\u001b[0m     \u001b[39m# reset the backoff from 32 seconds to 1 second\u001b[39;00m\n\u001b[0;32m--> 374\u001b[0m     \u001b[39mreturn\u001b[39;00m \u001b[39mcls\u001b[39;49m\u001b[39m.\u001b[39;49m_execute_func_internal(\n\u001b[1;32m    375\u001b[0m         DEFAULT_SHORT_BACKOFF, DEFAULT_RETRIES, module_logger, func, _noop_reset, \u001b[39m*\u001b[39;49margs, \u001b[39m*\u001b[39;49m\u001b[39m*\u001b[39;49mkwargs)\n",
            "File \u001b[0;32m/anaconda/envs/azureml_py38/lib/python3.8/site-packages/azureml/_restclient/clientbase.py:358\u001b[0m, in \u001b[0;36mClientBase._execute_func_internal\u001b[0;34m(cls, back_off, total_retry, logger, func, reset_func, *args, **kwargs)\u001b[0m\n\u001b[1;32m    356\u001b[0m \u001b[39mtry\u001b[39;00m:\n\u001b[1;32m    357\u001b[0m     logger\u001b[39m.\u001b[39mdebug(\u001b[39m\"\u001b[39m\u001b[39mClientBase: Calling \u001b[39m\u001b[39m{}\u001b[39;00m\u001b[39m with url \u001b[39m\u001b[39m{}\u001b[39;00m\u001b[39m\"\u001b[39m\u001b[39m.\u001b[39mformat(func_name, func_url))\n\u001b[0;32m--> 358\u001b[0m     response \u001b[39m=\u001b[39m func(\u001b[39m*\u001b[39;49margs, \u001b[39m*\u001b[39;49m\u001b[39m*\u001b[39;49mkwargs)\n\u001b[1;32m    359\u001b[0m     \u001b[39mif\u001b[39;00m (\u001b[39misinstance\u001b[39m(response, Response) \u001b[39mand\u001b[39;00m \u001b[39mcls\u001b[39m\u001b[39m.\u001b[39m_is_retryable_status_code(response\u001b[39m.\u001b[39mstatus_code)\n\u001b[1;32m    360\u001b[0m             \u001b[39mand\u001b[39;00m left_retry \u001b[39m>\u001b[39m \u001b[39m0\u001b[39m):\n\u001b[1;32m    361\u001b[0m         \u001b[39m# This is the handle the error case 1. response.raise_for_status only throws HTTPError exception.\u001b[39;00m\n\u001b[1;32m    362\u001b[0m         \u001b[39m# if the status_code is retryable and it is not the last retry, then the exception is thrown.\u001b[39;00m\n\u001b[1;32m    363\u001b[0m         \u001b[39m# Otherwise, we will return the response directly.\u001b[39;00m\n\u001b[1;32m    364\u001b[0m         response\u001b[39m.\u001b[39mraise_for_status()\n",
            "File \u001b[0;32m/anaconda/envs/azureml_py38/lib/python3.8/site-packages/requests/sessions.py:542\u001b[0m, in \u001b[0;36mSession.get\u001b[0;34m(self, url, **kwargs)\u001b[0m\n\u001b[1;32m    534\u001b[0m \u001b[39mr\u001b[39m\u001b[39m\"\"\"Sends a GET request. Returns :class:`Response` object.\u001b[39;00m\n\u001b[1;32m    535\u001b[0m \n\u001b[1;32m    536\u001b[0m \u001b[39m:param url: URL for the new :class:`Request` object.\u001b[39;00m\n\u001b[1;32m    537\u001b[0m \u001b[39m:param \\*\\*kwargs: Optional arguments that ``request`` takes.\u001b[39;00m\n\u001b[1;32m    538\u001b[0m \u001b[39m:rtype: requests.Response\u001b[39;00m\n\u001b[1;32m    539\u001b[0m \u001b[39m\"\"\"\u001b[39;00m\n\u001b[1;32m    541\u001b[0m kwargs\u001b[39m.\u001b[39msetdefault(\u001b[39m'\u001b[39m\u001b[39mallow_redirects\u001b[39m\u001b[39m'\u001b[39m, \u001b[39mTrue\u001b[39;00m)\n\u001b[0;32m--> 542\u001b[0m \u001b[39mreturn\u001b[39;00m \u001b[39mself\u001b[39;49m\u001b[39m.\u001b[39;49mrequest(\u001b[39m'\u001b[39;49m\u001b[39mGET\u001b[39;49m\u001b[39m'\u001b[39;49m, url, \u001b[39m*\u001b[39;49m\u001b[39m*\u001b[39;49mkwargs)\n",
            "File \u001b[0;32m/anaconda/envs/azureml_py38/lib/python3.8/site-packages/requests/sessions.py:529\u001b[0m, in \u001b[0;36mSession.request\u001b[0;34m(self, method, url, params, data, headers, cookies, files, auth, timeout, allow_redirects, proxies, hooks, stream, verify, cert, json)\u001b[0m\n\u001b[1;32m    524\u001b[0m send_kwargs \u001b[39m=\u001b[39m {\n\u001b[1;32m    525\u001b[0m     \u001b[39m'\u001b[39m\u001b[39mtimeout\u001b[39m\u001b[39m'\u001b[39m: timeout,\n\u001b[1;32m    526\u001b[0m     \u001b[39m'\u001b[39m\u001b[39mallow_redirects\u001b[39m\u001b[39m'\u001b[39m: allow_redirects,\n\u001b[1;32m    527\u001b[0m }\n\u001b[1;32m    528\u001b[0m send_kwargs\u001b[39m.\u001b[39mupdate(settings)\n\u001b[0;32m--> 529\u001b[0m resp \u001b[39m=\u001b[39m \u001b[39mself\u001b[39;49m\u001b[39m.\u001b[39;49msend(prep, \u001b[39m*\u001b[39;49m\u001b[39m*\u001b[39;49msend_kwargs)\n\u001b[1;32m    531\u001b[0m \u001b[39mreturn\u001b[39;00m resp\n",
            "File \u001b[0;32m/anaconda/envs/azureml_py38/lib/python3.8/site-packages/requests/sessions.py:645\u001b[0m, in \u001b[0;36mSession.send\u001b[0;34m(self, request, **kwargs)\u001b[0m\n\u001b[1;32m    642\u001b[0m start \u001b[39m=\u001b[39m preferred_clock()\n\u001b[1;32m    644\u001b[0m \u001b[39m# Send the request\u001b[39;00m\n\u001b[0;32m--> 645\u001b[0m r \u001b[39m=\u001b[39m adapter\u001b[39m.\u001b[39;49msend(request, \u001b[39m*\u001b[39;49m\u001b[39m*\u001b[39;49mkwargs)\n\u001b[1;32m    647\u001b[0m \u001b[39m# Total elapsed time of the request (approximately)\u001b[39;00m\n\u001b[1;32m    648\u001b[0m elapsed \u001b[39m=\u001b[39m preferred_clock() \u001b[39m-\u001b[39m start\n",
            "File \u001b[0;32m/anaconda/envs/azureml_py38/lib/python3.8/site-packages/requests/adapters.py:440\u001b[0m, in \u001b[0;36mHTTPAdapter.send\u001b[0;34m(self, request, stream, timeout, verify, cert, proxies)\u001b[0m\n\u001b[1;32m    438\u001b[0m \u001b[39mtry\u001b[39;00m:\n\u001b[1;32m    439\u001b[0m     \u001b[39mif\u001b[39;00m \u001b[39mnot\u001b[39;00m chunked:\n\u001b[0;32m--> 440\u001b[0m         resp \u001b[39m=\u001b[39m conn\u001b[39m.\u001b[39;49murlopen(\n\u001b[1;32m    441\u001b[0m             method\u001b[39m=\u001b[39;49mrequest\u001b[39m.\u001b[39;49mmethod,\n\u001b[1;32m    442\u001b[0m             url\u001b[39m=\u001b[39;49murl,\n\u001b[1;32m    443\u001b[0m             body\u001b[39m=\u001b[39;49mrequest\u001b[39m.\u001b[39;49mbody,\n\u001b[1;32m    444\u001b[0m             headers\u001b[39m=\u001b[39;49mrequest\u001b[39m.\u001b[39;49mheaders,\n\u001b[1;32m    445\u001b[0m             redirect\u001b[39m=\u001b[39;49m\u001b[39mFalse\u001b[39;49;00m,\n\u001b[1;32m    446\u001b[0m             assert_same_host\u001b[39m=\u001b[39;49m\u001b[39mFalse\u001b[39;49;00m,\n\u001b[1;32m    447\u001b[0m             preload_content\u001b[39m=\u001b[39;49m\u001b[39mFalse\u001b[39;49;00m,\n\u001b[1;32m    448\u001b[0m             decode_content\u001b[39m=\u001b[39;49m\u001b[39mFalse\u001b[39;49;00m,\n\u001b[1;32m    449\u001b[0m             retries\u001b[39m=\u001b[39;49m\u001b[39mself\u001b[39;49m\u001b[39m.\u001b[39;49mmax_retries,\n\u001b[1;32m    450\u001b[0m             timeout\u001b[39m=\u001b[39;49mtimeout\n\u001b[1;32m    451\u001b[0m         )\n\u001b[1;32m    453\u001b[0m     \u001b[39m# Send the request.\u001b[39;00m\n\u001b[1;32m    454\u001b[0m     \u001b[39melse\u001b[39;00m:\n\u001b[1;32m    455\u001b[0m         \u001b[39mif\u001b[39;00m \u001b[39mhasattr\u001b[39m(conn, \u001b[39m'\u001b[39m\u001b[39mproxy_pool\u001b[39m\u001b[39m'\u001b[39m):\n",
            "File \u001b[0;32m/anaconda/envs/azureml_py38/lib/python3.8/site-packages/urllib3/connectionpool.py:703\u001b[0m, in \u001b[0;36mHTTPConnectionPool.urlopen\u001b[0;34m(self, method, url, body, headers, retries, redirect, assert_same_host, timeout, pool_timeout, release_conn, chunked, body_pos, **response_kw)\u001b[0m\n\u001b[1;32m    700\u001b[0m     \u001b[39mself\u001b[39m\u001b[39m.\u001b[39m_prepare_proxy(conn)\n\u001b[1;32m    702\u001b[0m \u001b[39m# Make the request on the httplib connection object.\u001b[39;00m\n\u001b[0;32m--> 703\u001b[0m httplib_response \u001b[39m=\u001b[39m \u001b[39mself\u001b[39;49m\u001b[39m.\u001b[39;49m_make_request(\n\u001b[1;32m    704\u001b[0m     conn,\n\u001b[1;32m    705\u001b[0m     method,\n\u001b[1;32m    706\u001b[0m     url,\n\u001b[1;32m    707\u001b[0m     timeout\u001b[39m=\u001b[39;49mtimeout_obj,\n\u001b[1;32m    708\u001b[0m     body\u001b[39m=\u001b[39;49mbody,\n\u001b[1;32m    709\u001b[0m     headers\u001b[39m=\u001b[39;49mheaders,\n\u001b[1;32m    710\u001b[0m     chunked\u001b[39m=\u001b[39;49mchunked,\n\u001b[1;32m    711\u001b[0m )\n\u001b[1;32m    713\u001b[0m \u001b[39m# If we're going to release the connection in ``finally:``, then\u001b[39;00m\n\u001b[1;32m    714\u001b[0m \u001b[39m# the response doesn't need to know about the connection. Otherwise\u001b[39;00m\n\u001b[1;32m    715\u001b[0m \u001b[39m# it will also try to release it and we'll have a double-release\u001b[39;00m\n\u001b[1;32m    716\u001b[0m \u001b[39m# mess.\u001b[39;00m\n\u001b[1;32m    717\u001b[0m response_conn \u001b[39m=\u001b[39m conn \u001b[39mif\u001b[39;00m \u001b[39mnot\u001b[39;00m release_conn \u001b[39melse\u001b[39;00m \u001b[39mNone\u001b[39;00m\n",
            "File \u001b[0;32m/anaconda/envs/azureml_py38/lib/python3.8/site-packages/urllib3/connectionpool.py:386\u001b[0m, in \u001b[0;36mHTTPConnectionPool._make_request\u001b[0;34m(self, conn, method, url, timeout, chunked, **httplib_request_kw)\u001b[0m\n\u001b[1;32m    384\u001b[0m \u001b[39m# Trigger any extra validation we need to do.\u001b[39;00m\n\u001b[1;32m    385\u001b[0m \u001b[39mtry\u001b[39;00m:\n\u001b[0;32m--> 386\u001b[0m     \u001b[39mself\u001b[39;49m\u001b[39m.\u001b[39;49m_validate_conn(conn)\n\u001b[1;32m    387\u001b[0m \u001b[39mexcept\u001b[39;00m (SocketTimeout, BaseSSLError) \u001b[39mas\u001b[39;00m e:\n\u001b[1;32m    388\u001b[0m     \u001b[39m# Py2 raises this as a BaseSSLError, Py3 raises it as socket timeout.\u001b[39;00m\n\u001b[1;32m    389\u001b[0m     \u001b[39mself\u001b[39m\u001b[39m.\u001b[39m_raise_timeout(err\u001b[39m=\u001b[39me, url\u001b[39m=\u001b[39murl, timeout_value\u001b[39m=\u001b[39mconn\u001b[39m.\u001b[39mtimeout)\n",
            "File \u001b[0;32m/anaconda/envs/azureml_py38/lib/python3.8/site-packages/urllib3/connectionpool.py:1040\u001b[0m, in \u001b[0;36mHTTPSConnectionPool._validate_conn\u001b[0;34m(self, conn)\u001b[0m\n\u001b[1;32m   1038\u001b[0m \u001b[39m# Force connect early to allow us to validate the connection.\u001b[39;00m\n\u001b[1;32m   1039\u001b[0m \u001b[39mif\u001b[39;00m \u001b[39mnot\u001b[39;00m \u001b[39mgetattr\u001b[39m(conn, \u001b[39m\"\u001b[39m\u001b[39msock\u001b[39m\u001b[39m\"\u001b[39m, \u001b[39mNone\u001b[39;00m):  \u001b[39m# AppEngine might not have  `.sock`\u001b[39;00m\n\u001b[0;32m-> 1040\u001b[0m     conn\u001b[39m.\u001b[39;49mconnect()\n\u001b[1;32m   1042\u001b[0m \u001b[39mif\u001b[39;00m \u001b[39mnot\u001b[39;00m conn\u001b[39m.\u001b[39mis_verified:\n\u001b[1;32m   1043\u001b[0m     warnings\u001b[39m.\u001b[39mwarn(\n\u001b[1;32m   1044\u001b[0m         (\n\u001b[1;32m   1045\u001b[0m             \u001b[39m\"\u001b[39m\u001b[39mUnverified HTTPS request is being made to host \u001b[39m\u001b[39m'\u001b[39m\u001b[39m%s\u001b[39;00m\u001b[39m'\u001b[39m\u001b[39m. \u001b[39m\u001b[39m\"\u001b[39m\n\u001b[0;32m   (...)\u001b[0m\n\u001b[1;32m   1050\u001b[0m         InsecureRequestWarning,\n\u001b[1;32m   1051\u001b[0m     )\n",
            "File \u001b[0;32m/anaconda/envs/azureml_py38/lib/python3.8/site-packages/urllib3/connection.py:358\u001b[0m, in \u001b[0;36mHTTPSConnection.connect\u001b[0;34m(self)\u001b[0m\n\u001b[1;32m    356\u001b[0m \u001b[39mdef\u001b[39;00m \u001b[39mconnect\u001b[39m(\u001b[39mself\u001b[39m):\n\u001b[1;32m    357\u001b[0m     \u001b[39m# Add certificate verification\u001b[39;00m\n\u001b[0;32m--> 358\u001b[0m     \u001b[39mself\u001b[39m\u001b[39m.\u001b[39msock \u001b[39m=\u001b[39m conn \u001b[39m=\u001b[39m \u001b[39mself\u001b[39;49m\u001b[39m.\u001b[39;49m_new_conn()\n\u001b[1;32m    359\u001b[0m     hostname \u001b[39m=\u001b[39m \u001b[39mself\u001b[39m\u001b[39m.\u001b[39mhost\n\u001b[1;32m    360\u001b[0m     tls_in_tls \u001b[39m=\u001b[39m \u001b[39mFalse\u001b[39;00m\n",
            "File \u001b[0;32m/anaconda/envs/azureml_py38/lib/python3.8/site-packages/urllib3/connection.py:174\u001b[0m, in \u001b[0;36mHTTPConnection._new_conn\u001b[0;34m(self)\u001b[0m\n\u001b[1;32m    171\u001b[0m     extra_kw[\u001b[39m\"\u001b[39m\u001b[39msocket_options\u001b[39m\u001b[39m\"\u001b[39m] \u001b[39m=\u001b[39m \u001b[39mself\u001b[39m\u001b[39m.\u001b[39msocket_options\n\u001b[1;32m    173\u001b[0m \u001b[39mtry\u001b[39;00m:\n\u001b[0;32m--> 174\u001b[0m     conn \u001b[39m=\u001b[39m connection\u001b[39m.\u001b[39;49mcreate_connection(\n\u001b[1;32m    175\u001b[0m         (\u001b[39mself\u001b[39;49m\u001b[39m.\u001b[39;49m_dns_host, \u001b[39mself\u001b[39;49m\u001b[39m.\u001b[39;49mport), \u001b[39mself\u001b[39;49m\u001b[39m.\u001b[39;49mtimeout, \u001b[39m*\u001b[39;49m\u001b[39m*\u001b[39;49mextra_kw\n\u001b[1;32m    176\u001b[0m     )\n\u001b[1;32m    178\u001b[0m \u001b[39mexcept\u001b[39;00m SocketTimeout:\n\u001b[1;32m    179\u001b[0m     \u001b[39mraise\u001b[39;00m ConnectTimeoutError(\n\u001b[1;32m    180\u001b[0m         \u001b[39mself\u001b[39m,\n\u001b[1;32m    181\u001b[0m         \u001b[39m\"\u001b[39m\u001b[39mConnection to \u001b[39m\u001b[39m%s\u001b[39;00m\u001b[39m timed out. (connect timeout=\u001b[39m\u001b[39m%s\u001b[39;00m\u001b[39m)\u001b[39m\u001b[39m\"\u001b[39m\n\u001b[1;32m    182\u001b[0m         \u001b[39m%\u001b[39m (\u001b[39mself\u001b[39m\u001b[39m.\u001b[39mhost, \u001b[39mself\u001b[39m\u001b[39m.\u001b[39mtimeout),\n\u001b[1;32m    183\u001b[0m     )\n",
            "File \u001b[0;32m/anaconda/envs/azureml_py38/lib/python3.8/site-packages/urllib3/util/connection.py:85\u001b[0m, in \u001b[0;36mcreate_connection\u001b[0;34m(address, timeout, source_address, socket_options)\u001b[0m\n\u001b[1;32m     83\u001b[0m     \u001b[39mif\u001b[39;00m source_address:\n\u001b[1;32m     84\u001b[0m         sock\u001b[39m.\u001b[39mbind(source_address)\n\u001b[0;32m---> 85\u001b[0m     sock\u001b[39m.\u001b[39;49mconnect(sa)\n\u001b[1;32m     86\u001b[0m     \u001b[39mreturn\u001b[39;00m sock\n\u001b[1;32m     88\u001b[0m \u001b[39mexcept\u001b[39;00m socket\u001b[39m.\u001b[39merror \u001b[39mas\u001b[39;00m e:\n",
            "\u001b[0;31mKeyboardInterrupt\u001b[0m: "
          ]
        }
      ],
      "source": [
        "# Import libraries\n",
        "import azureml.core\n",
        "from azureml.core import (\n",
        "    Workspace\n",
        "    , Experiment\n",
        "    , Environment\n",
        "    , Dataset\n",
        "    , RunConfiguration\n",
        "    , ScriptRunConfig\n",
        ")\n",
        "from azureml.widgets import RunDetails\n",
        "\n",
        "from azureml.core.compute import ComputeTarget\n",
        "from azureml.core.runconfig import (\n",
        "    RunConfiguration\n",
        "    , DEFAULT_CPU_IMAGE\n",
        "    , DockerConfiguration\n",
        ")\n",
        "from azureml.core.conda_dependencies import CondaDependencies\n",
        "from azureml.data import OutputFileDatasetConfig\n",
        "\n",
        "from azureml.pipeline.core import (\n",
        "    Pipeline\n",
        "    , PipelineRun\n",
        "    , PipelineParameter\n",
        "    , PipelineData\n",
        "    , TrainingOutput\n",
        ")\n",
        "from azureml.pipeline.steps import (\n",
        "    PythonScriptStep\n",
        "    , HyperDriveStep\n",
        ")\n",
        "from azureml.train.hyperdrive import (\n",
        "    BayesianParameterSampling\n",
        "    , HyperDriveConfig\n",
        "    , PrimaryMetricGoal\n",
        "    , choice\n",
        "    , uniform\n",
        "    , quniform\n",
        ")\n",
        "\n",
        "# from azureml.pipeline.core.schedule import ScheduleRecurrence, Schedule\n",
        "\n",
        "print(\"AML SDK version:\", azureml.core.VERSION)\n",
        "\n",
        "# Load the workspace from a configuration file\n",
        "ws = Workspace.from_config()\n",
        "\n",
        "# Get a reference to our experiment\n",
        "exp = Experiment(ws, 'sklearn_pipeline_exp')\n",
        "\n",
        "# Build environment\n",
        "env = Environment.from_conda_specification(name='test_env', file_path=\"conda_dependencies.yml\")\n",
        "\n",
        "# Set the compute target  and compute cluster\n",
        "cluster = ComputeTarget(workspace=ws, name='cpu-cluster')\n",
        "cluster.wait_for_completion(show_output=True)\n",
        "compute = ComputeTarget(workspace=ws, name='crcastillo841')\n",
        "compute.wait_for_completion(show_output=True)\n",
        "\n",
        "# Establish default datastore\n",
        "default_store = ws.get_default_datastore()"
      ]
    },
    {
      "cell_type": "code",
      "execution_count": null,
      "metadata": {
        "gather": {
          "logged": 1660839643786
        }
      },
      "outputs": [],
      "source": [
        "# Define the run configuration\n",
        "run_config = RunConfiguration()\n",
        "\n",
        "run_config.docker = DockerConfiguration(use_docker=True)\n",
        "run_config.environment.docker.base_image = DEFAULT_CPU_IMAGE\n",
        "# use conda_dependencies.yml to create a conda environment in the Docker image for execution\n",
        "run_config.environment.python.user_managed_dependencies = False\n",
        "\n",
        "# Specify conda dependencies through .yml\n",
        "run_config.environment.python.conda_dependencies = CondaDependencies(conda_dependencies_file_path=\"conda_dependencies.yml\")"
      ]
    },
    {
      "cell_type": "code",
      "execution_count": null,
      "metadata": {
        "gather": {
          "logged": 1660839646381
        }
      },
      "outputs": [],
      "source": [
        "# Define dataset\n",
        "ds_input = Dataset.get_by_name(\n",
        "        workspace=ws\n",
        "        , name=\"1994_Adult_Data\"\n",
        "    ).as_named_input('ds_input')\n",
        "\n",
        "# Define outputs\n",
        "train_data = PipelineData('train_data', datastore=default_store).as_dataset()\n",
        "test_data = PipelineData('test_data', datastore=default_store).as_dataset()\n",
        "\n",
        "# Define variables\n",
        "random_seed = 123\n",
        "test_proportion = 0.2\n",
        "target = 'income'\n",
        "\n",
        "# Create prep_step\n",
        "prep_step = PythonScriptStep(\n",
        "    source_directory='./prep'\n",
        "    , script_name='prep.py'\n",
        "    , arguments=[\n",
        "        '--random_seed', random_seed\n",
        "        , '--test_proportion', test_proportion\n",
        "        , '--target', target\n",
        "        , '--train_data', train_data\n",
        "        , '--test_data', test_data\n",
        "        ]\n",
        "    , inputs=[ds_input]\n",
        "    , outputs=[\n",
        "        train_data\n",
        "        , test_data\n",
        "        ]\n",
        "    , runconfig=run_config\n",
        "    , compute_target=compute\n",
        "    , allow_reuse=True\n",
        "    )\n",
        "\n",
        "# Print\n",
        "print('prep step is created')"
      ]
    },
    {
      "cell_type": "code",
      "execution_count": null,
      "metadata": {
        "gather": {
          "logged": 1660839648985
        }
      },
      "outputs": [],
      "source": [
        "# Define outputs\n",
        "metrics_data = PipelineData(\n",
        "    name='metrics_data'\n",
        "    , datastore=default_store\n",
        "    , pipeline_output_name='metrics_output'\n",
        "    , training_output=TrainingOutput(type='Metrics')\n",
        ")\n",
        "model_data = PipelineData(\n",
        "    name='model_data'\n",
        "    , datastore=default_store\n",
        "    , pipeline_output_name='model_output'\n",
        "    , training_output=TrainingOutput(\n",
        "        type='Model'\n",
        "        , model_file=\"outputs/model.pkl\"\n",
        "    )\n",
        ")\n",
        "\n",
        "# Define the ScriptRunConfig\n",
        "hd_src = ScriptRunConfig(\n",
        "    source_directory='./train'\n",
        "    , script='train.py'\n",
        "    , arguments=[\n",
        "        '--random_seed', random_seed\n",
        "        # , '--train_data', train_data\n",
        "        ]\n",
        "    , compute_target=cluster\n",
        "    , environment=env\n",
        ")\n",
        "\n",
        "# Define search space and parameter search\n",
        "param_sampling = BayesianParameterSampling({\n",
        "    \"n_estimators\": quniform(\n",
        "        min_value=100\n",
        "        , max_value=1000\n",
        "        , q=50\n",
        "        )\n",
        "    , \"learning_rate\": uniform(\n",
        "        min_value=0.01\n",
        "        , max_value=0.8\n",
        "        )\n",
        "    , \"max_depth\": quniform(\n",
        "        min_value=3\n",
        "        , max_value=20\n",
        "        , q=1\n",
        "        )\n",
        "    , \"colsample_bytree\": uniform(\n",
        "        min_value=0.5\n",
        "        , max_value=1.0\n",
        "        )\n",
        "    , \"gamma\": uniform(\n",
        "        min_value=0\n",
        "        , max_value=5\n",
        "        )\n",
        "    , \"reg_lambda\": uniform(\n",
        "        min_value=0\n",
        "        , max_value=10\n",
        "        )\n",
        "    , \"reg_alpha\": uniform(\n",
        "        min_value=0\n",
        "        , max_value=1\n",
        "        )\n",
        "    # need to research quniform for q=float, won't take integer\n",
        "    , \"subsample\": uniform(\n",
        "        min_value=0.6\n",
        "        , max_value=0.9\n",
        "        )\n",
        "    , \"max_bin\": quniform(\n",
        "        min_value=25\n",
        "        , max_value=500\n",
        "        , q=25\n",
        "        )\n",
        "})\n",
        "\n",
        "# Create hyperdrive config\n",
        "hd_config = HyperDriveConfig(\n",
        "    run_config=hd_src\n",
        "    , hyperparameter_sampling=param_sampling\n",
        "    , policy=None\n",
        "    , primary_metric_name='mean_cv_score'\n",
        "    , primary_metric_goal=PrimaryMetricGoal.MAXIMIZE\n",
        "    , max_total_runs=50\n",
        "    , max_concurrent_runs=4\n",
        "    )\n",
        "\n",
        "# Create hyperdrive_step\n",
        "hyperdrive_step = HyperDriveStep(\n",
        "    name='hyperdrive_step'\n",
        "    , hyperdrive_config=hd_config\n",
        "    , inputs=[train_data]\n",
        "    , outputs=[\n",
        "        metrics_data\n",
        "        , model_data\n",
        "        ]\n",
        "    , allow_reuse=True\n",
        "    )\n",
        "\n",
        "# Print\n",
        "print('hyperdrive step is created')"
      ]
    },
    {
      "cell_type": "code",
      "execution_count": null,
      "metadata": {
        "gather": {
          "logged": 1660839652715
        }
      },
      "outputs": [],
      "source": [
        "# Create the register model step\n",
        "register_model_step = PythonScriptStep(\n",
        "    source_directory='./train'\n",
        "    , script_name='register_model.py'\n",
        "    , name=\"register_model_step\"\n",
        "    , inputs=[model_data]\n",
        "    , compute_target=compute\n",
        "    , arguments=[\"--model_data\", model_data]\n",
        "    , allow_reuse=True\n",
        "    , runconfig=run_config\n",
        "    )\n",
        "\n",
        "# register_model_step.run_after(hd_step)\n",
        "\n",
        "# Print\n",
        "print('register model step is created')"
      ]
    },
    {
      "cell_type": "code",
      "execution_count": null,
      "metadata": {},
      "outputs": [],
      "source": [
        "# Create the pipeline\n",
        "pipeline = Pipeline(\n",
        "    workspace=ws\n",
        "    , steps=[\n",
        "        prep_step\n",
        "        , hyperdrive_step\n",
        "        , register_model_step\n",
        "        ]\n",
        ")\n",
        "pipeline.validate()\n",
        "pipeline_run = pipeline.submit('sklearn_poc_pipeline')\n",
        "pipeline_run.wait_for_completion()"
      ]
    }
  ],
  "metadata": {
    "kernel_info": {
      "name": "python3"
    },
    "kernelspec": {
      "display_name": "Python 3 (ipykernel)",
      "language": "python",
      "name": "python3"
    },
    "language_info": {
      "codemirror_mode": {
        "name": "ipython",
        "version": 3
      },
      "file_extension": ".py",
      "mimetype": "text/x-python",
      "name": "python",
      "nbconvert_exporter": "python",
      "pygments_lexer": "ipython3",
      "version": "3.8.5"
    },
    "microsoft": {
      "host": {
        "AzureML": {
          "notebookHasBeenCompleted": true
        }
      }
    },
    "nteract": {
      "version": "nteract-front-end@1.0.0"
    },
    "orig_nbformat": 4,
    "vscode": {
      "interpreter": {
        "hash": "6d65a8c07f5b6469e0fc613f182488c0dccce05038bbda39e5ac9075c0454d11"
      }
    }
  },
  "nbformat": 4,
  "nbformat_minor": 2
}
